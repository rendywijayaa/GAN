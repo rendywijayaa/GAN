{
 "cells": [
  {
   "cell_type": "code",
   "execution_count": null,
   "id": "static-kazakhstan",
   "metadata": {},
   "outputs": [],
   "source": [
    "# !pip install jcopdl gdown\n",
    "# !gdown https://drive.google.com/uc?id=1sGZwJdbk7ZWqKEORJp6blndHX8azDXkt\n",
    "# !unzip /content/mnist.zip"
   ]
  },
  {
   "cell_type": "code",
   "execution_count": 1,
   "id": "federal-vintage",
   "metadata": {},
   "outputs": [
    {
     "data": {
      "text/plain": [
       "device(type='cpu')"
      ]
     },
     "execution_count": 1,
     "metadata": {},
     "output_type": "execute_result"
    }
   ],
   "source": [
    "import torch\n",
    "from torch import nn, optim\n",
    "from jcopdl.callback import Callback, set_config\n",
    "\n",
    "device = torch.device(\"cuda:0\" if torch.cuda.is_available() else \"cpu\")\n",
    "device"
   ]
  },
  {
   "cell_type": "markdown",
   "id": "missing-hometown",
   "metadata": {},
   "source": [
    "# Dataset & Dataloader (hanya train set)"
   ]
  },
  {
   "cell_type": "code",
   "execution_count": 2,
   "id": "gorgeous-mathematics",
   "metadata": {},
   "outputs": [],
   "source": [
    "from torchvision import datasets, transforms\n",
    "from torch.utils.data import DataLoader"
   ]
  },
  {
   "cell_type": "code",
   "execution_count": 3,
   "id": "cutting-vault",
   "metadata": {},
   "outputs": [],
   "source": [
    "bs = 64\n",
    "\n",
    "transform = transforms.Compose([\n",
    "    transforms.Grayscale(),\n",
    "    transforms.ToTensor(),\n",
    "    transforms.Normalize([0.5], [0.5]) # menjadi (-1, 1) supaya lebih stabil\n",
    "])\n",
    "\n",
    "\n",
    "train_set = datasets.ImageFolder(\"data/train/\", transform=transform)\n",
    "trainloader = DataLoader(train_set, batch_size=bs, shuffle=True, num_workers=4)"
   ]
  },
  {
   "cell_type": "markdown",
   "id": "illegal-bangkok",
   "metadata": {},
   "source": [
    "# Arsitektur & Config"
   ]
  },
  {
   "cell_type": "code",
   "execution_count": 4,
   "id": "preliminary-knight",
   "metadata": {},
   "outputs": [
    {
     "name": "stdout",
     "output_type": "stream",
     "text": [
      "Writing model_cgan.py\n"
     ]
    }
   ],
   "source": [
    "%%writefile model_cgan.py\n",
    "import torch\n",
    "from torch import nn\n",
    "from jcopdl.layers import linear_block\n",
    "\n",
    "class Discriminator(nn.Module):\n",
    "    def __init__(self, n_classes):\n",
    "        super().__init__()\n",
    "        self.flatten = nn.Flatten()\n",
    "        self.embed_label = nn.Embedding(n_classes, n_classes)\n",
    "        self.fc = nn.Sequential(\n",
    "            nn.Flatten(),\n",
    "            linear_block(784 + n_classes, 512, activation=\"lrelu\"),\n",
    "            linear_block(512, 256, activation=\"lrelu\"),\n",
    "            linear_block(256, 128, activation=\"lrelu\"),\n",
    "            linear_block(128, 1, activation='sigmoid')\n",
    "        )\n",
    "    \n",
    "    def forward(self, x, y):\n",
    "        x = self.flatten(x)\n",
    "        y = self.embed_label(y)\n",
    "        x = torch.cat([x,y], dim=1)\n",
    "        return self.fc(x)\n",
    "    \n",
    "class Generator(nn.Module):\n",
    "    def __init__(self, z_dim, n_classes):\n",
    "        super().__init__()\n",
    "        self.z_dim = z_dim\n",
    "        self.embed_label = nn.Embedding(n_classes, n_classes)\n",
    "        self.fc = nn.Sequential(\n",
    "            linear_block(z_dim + n_classes, 128, activation=\"lrelu\"),\n",
    "            linear_block(128, 256, activation=\"lrelu\", batch_norm=True),\n",
    "            linear_block(256, 512, activation=\"lrelu\", batch_norm=True),\n",
    "            linear_block(512, 1024, activation='lrelu', batch_norm=True),\n",
    "            linear_block(1024, 784, activation='tanh')\n",
    "        )\n",
    "    \n",
    "    def forward(self, x, y):\n",
    "        y = self.embed_label(y)\n",
    "        x = torch.cat([x,y], dim=1)\n",
    "        return self.fc(x)\n",
    "    \n",
    "    def generate(self, labels, device):\n",
    "        z = torch.randn((len(labels), self.z_dim), device=device)\n",
    "        return self.forward(z, labels)"
   ]
  },
  {
   "cell_type": "code",
   "execution_count": 5,
   "id": "successful-spirituality",
   "metadata": {},
   "outputs": [],
   "source": [
    "config = set_config({\n",
    "    \"z_dim\": 100,\n",
    "    \"n_classes\" : len(train_set.classes),\n",
    "    \"batch_size\": bs\n",
    "})"
   ]
  },
  {
   "cell_type": "markdown",
   "id": "interracial-billion",
   "metadata": {},
   "source": [
    "# Training Preparation -> MCO"
   ]
  },
  {
   "cell_type": "code",
   "execution_count": 7,
   "id": "cooperative-looking",
   "metadata": {},
   "outputs": [],
   "source": [
    "from model_cgan import Discriminator, Generator"
   ]
  },
  {
   "cell_type": "code",
   "execution_count": 8,
   "id": "unlike-contribution",
   "metadata": {},
   "outputs": [],
   "source": [
    "D = Discriminator(config.n_classes).to(device)\n",
    "G = Generator(config.z_dim, config.n_classes).to(device)\n",
    "\n",
    "criterion = nn.BCELoss()\n",
    "\n",
    "d_optimizer = optim.Adam(D.parameters(), lr=0.0002)\n",
    "g_optimizer = optim.Adam(G.parameters(), lr=0.0002)"
   ]
  },
  {
   "cell_type": "markdown",
   "id": "initial-affiliation",
   "metadata": {},
   "source": [
    "# Training"
   ]
  },
  {
   "cell_type": "code",
   "execution_count": 6,
   "id": "serious-boring",
   "metadata": {},
   "outputs": [],
   "source": [
    "import os\n",
    "\n",
    "from torchvision.utils import save_image\n",
    "\n",
    "os.makedirs(\"output/CGAN/\", exist_ok=True)\n",
    "os.makedirs(\"model/CGAN/\", exist_ok=True)"
   ]
  },
  {
   "cell_type": "code",
   "execution_count": null,
   "id": "nonprofit-actress",
   "metadata": {},
   "outputs": [],
   "source": [
    "max_epoch = 300\n",
    "fix_labels = torch.randint(10, (64,), device=device)\n",
    "for epoch in range(max_epoch):\n",
    "    D.train()\n",
    "    G.train()\n",
    "    for real_img, labels in trainloader:\n",
    "        n_data = real_img.shape[0]\n",
    "        \n",
    "        ## Real and Fake Images\n",
    "        real_img, labels = real_img.to(device), labels.to(device)\n",
    "        fake_img = G.generate(labels, device)\n",
    "        \n",
    "        ## Real and Fake Labels\n",
    "        real = torch.ones((n_data, 1), device=device) \n",
    "        fake = torch.zeros((n_data, 1), device=device)\n",
    "        \n",
    "        ## Training Discriminator\n",
    "        d_optimizer.zero_grad()\n",
    "        # Real image -> Discriminator -> label Real\n",
    "        output = D(real_img, labels)\n",
    "        d_real_loss = criterion(output, real)\n",
    "        \n",
    "        # Fake image -> Discriminator -> label Fake\n",
    "        output = D(fake_img.detach(), labels)\n",
    "        d_fake_loss = criterion(output, fake)\n",
    "        \n",
    "        d_loss = d_real_loss + d_fake_loss\n",
    "        d_loss.backward()\n",
    "        d_optimizer.step()\n",
    "        \n",
    "        ## Training Generator\n",
    "        g_optimizer.zero_grad()\n",
    "        \n",
    "        # Fake image -> Dicriminator -> tapi label real\n",
    "        output = D(fake_img, labels)\n",
    "        g_loss = criterion(output, real)\n",
    "        g_loss.backward()\n",
    "        g_optimizer.step()\n",
    "        \n",
    "    if epoch % 5 == 0:\n",
    "        print(f\"Epoch {epoch:5} | D_loss {d_loss/2:.5f} | G_loss: {g_loss:.5f}\")\n",
    "        \n",
    "    if epoch % 15 ==0:\n",
    "        G.eval()\n",
    "        epoch = str(epoch).zfill(4)\n",
    "        fake_img = G.generate(fix_labels, device)\n",
    "        save_image(fake_img.view(-1, 1, 28, 28), f\"output/CGAN/{epoch}.jpg\", nrow=8, normalize=True)\n",
    "        \n",
    "        torch.save(D, \"model/CGAN/discriminator.pth\")\n",
    "        torch.save(G, \"model/CGAN/generator.pth\")"
   ]
  },
  {
   "cell_type": "code",
   "execution_count": null,
   "id": "numerical-template",
   "metadata": {},
   "outputs": [],
   "source": [
    "# !zip -r model.zip /content/model/\n",
    "# !zip -r output.zip /content/output/"
   ]
  }
 ],
 "metadata": {
  "kernelspec": {
   "display_name": "Python [conda env:jcop_gan]",
   "language": "python",
   "name": "conda-env-jcop_gan-py"
  },
  "language_info": {
   "codemirror_mode": {
    "name": "ipython",
    "version": 3
   },
   "file_extension": ".py",
   "mimetype": "text/x-python",
   "name": "python",
   "nbconvert_exporter": "python",
   "pygments_lexer": "ipython3",
   "version": "3.7.6"
  }
 },
 "nbformat": 4,
 "nbformat_minor": 5
}
